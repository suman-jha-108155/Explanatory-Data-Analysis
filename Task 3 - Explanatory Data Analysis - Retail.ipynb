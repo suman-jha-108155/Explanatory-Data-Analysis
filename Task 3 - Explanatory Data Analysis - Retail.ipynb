{
 "cells": [
  {
   "cell_type": "markdown",
   "id": "9eaf47d2",
   "metadata": {},
   "source": [
    "# Name : Suman Jha    "
   ]
  },
  {
   "cell_type": "markdown",
   "id": "e197bdec",
   "metadata": {},
   "source": [
    "Here , we will do the explanatory data analysis of the retail store sales and profit"
   ]
  },
  {
   "cell_type": "markdown",
   "id": "2599dc77",
   "metadata": {},
   "source": [
    "# Importing all the necessary packages "
   ]
  },
  {
   "cell_type": "code",
   "execution_count": 4,
   "id": "1e1b5a1a",
   "metadata": {},
   "outputs": [],
   "source": [
    "import pandas as pd\n",
    "import numpy as np\n",
    "import matplotlib.pyplot as plt\n",
    "import seaborn as sns"
   ]
  },
  {
   "cell_type": "markdown",
   "id": "440858e6",
   "metadata": {},
   "source": [
    "# Loading Dataset "
   ]
  },
  {
   "cell_type": "code",
   "execution_count": 5,
   "id": "b08d3942",
   "metadata": {},
   "outputs": [
    {
     "data": {
      "text/html": [
       "<div>\n",
       "<style scoped>\n",
       "    .dataframe tbody tr th:only-of-type {\n",
       "        vertical-align: middle;\n",
       "    }\n",
       "\n",
       "    .dataframe tbody tr th {\n",
       "        vertical-align: top;\n",
       "    }\n",
       "\n",
       "    .dataframe thead th {\n",
       "        text-align: right;\n",
       "    }\n",
       "</style>\n",
       "<table border=\"1\" class=\"dataframe\">\n",
       "  <thead>\n",
       "    <tr style=\"text-align: right;\">\n",
       "      <th></th>\n",
       "      <th>Ship Mode</th>\n",
       "      <th>Segment</th>\n",
       "      <th>Country</th>\n",
       "      <th>City</th>\n",
       "      <th>State</th>\n",
       "      <th>Postal Code</th>\n",
       "      <th>Region</th>\n",
       "      <th>Category</th>\n",
       "      <th>Sub-Category</th>\n",
       "      <th>Sales</th>\n",
       "      <th>Quantity</th>\n",
       "      <th>Discount</th>\n",
       "      <th>Profit</th>\n",
       "    </tr>\n",
       "  </thead>\n",
       "  <tbody>\n",
       "    <tr>\n",
       "      <th>0</th>\n",
       "      <td>Second Class</td>\n",
       "      <td>Consumer</td>\n",
       "      <td>United States</td>\n",
       "      <td>Henderson</td>\n",
       "      <td>Kentucky</td>\n",
       "      <td>42420</td>\n",
       "      <td>South</td>\n",
       "      <td>Furniture</td>\n",
       "      <td>Bookcases</td>\n",
       "      <td>261.9600</td>\n",
       "      <td>2</td>\n",
       "      <td>0.00</td>\n",
       "      <td>41.9136</td>\n",
       "    </tr>\n",
       "    <tr>\n",
       "      <th>1</th>\n",
       "      <td>Second Class</td>\n",
       "      <td>Consumer</td>\n",
       "      <td>United States</td>\n",
       "      <td>Henderson</td>\n",
       "      <td>Kentucky</td>\n",
       "      <td>42420</td>\n",
       "      <td>South</td>\n",
       "      <td>Furniture</td>\n",
       "      <td>Chairs</td>\n",
       "      <td>731.9400</td>\n",
       "      <td>3</td>\n",
       "      <td>0.00</td>\n",
       "      <td>219.5820</td>\n",
       "    </tr>\n",
       "    <tr>\n",
       "      <th>2</th>\n",
       "      <td>Second Class</td>\n",
       "      <td>Corporate</td>\n",
       "      <td>United States</td>\n",
       "      <td>Los Angeles</td>\n",
       "      <td>California</td>\n",
       "      <td>90036</td>\n",
       "      <td>West</td>\n",
       "      <td>Office Supplies</td>\n",
       "      <td>Labels</td>\n",
       "      <td>14.6200</td>\n",
       "      <td>2</td>\n",
       "      <td>0.00</td>\n",
       "      <td>6.8714</td>\n",
       "    </tr>\n",
       "    <tr>\n",
       "      <th>3</th>\n",
       "      <td>Standard Class</td>\n",
       "      <td>Consumer</td>\n",
       "      <td>United States</td>\n",
       "      <td>Fort Lauderdale</td>\n",
       "      <td>Florida</td>\n",
       "      <td>33311</td>\n",
       "      <td>South</td>\n",
       "      <td>Furniture</td>\n",
       "      <td>Tables</td>\n",
       "      <td>957.5775</td>\n",
       "      <td>5</td>\n",
       "      <td>0.45</td>\n",
       "      <td>-383.0310</td>\n",
       "    </tr>\n",
       "    <tr>\n",
       "      <th>4</th>\n",
       "      <td>Standard Class</td>\n",
       "      <td>Consumer</td>\n",
       "      <td>United States</td>\n",
       "      <td>Fort Lauderdale</td>\n",
       "      <td>Florida</td>\n",
       "      <td>33311</td>\n",
       "      <td>South</td>\n",
       "      <td>Office Supplies</td>\n",
       "      <td>Storage</td>\n",
       "      <td>22.3680</td>\n",
       "      <td>2</td>\n",
       "      <td>0.20</td>\n",
       "      <td>2.5164</td>\n",
       "    </tr>\n",
       "    <tr>\n",
       "      <th>...</th>\n",
       "      <td>...</td>\n",
       "      <td>...</td>\n",
       "      <td>...</td>\n",
       "      <td>...</td>\n",
       "      <td>...</td>\n",
       "      <td>...</td>\n",
       "      <td>...</td>\n",
       "      <td>...</td>\n",
       "      <td>...</td>\n",
       "      <td>...</td>\n",
       "      <td>...</td>\n",
       "      <td>...</td>\n",
       "      <td>...</td>\n",
       "    </tr>\n",
       "    <tr>\n",
       "      <th>9989</th>\n",
       "      <td>Second Class</td>\n",
       "      <td>Consumer</td>\n",
       "      <td>United States</td>\n",
       "      <td>Miami</td>\n",
       "      <td>Florida</td>\n",
       "      <td>33180</td>\n",
       "      <td>South</td>\n",
       "      <td>Furniture</td>\n",
       "      <td>Furnishings</td>\n",
       "      <td>25.2480</td>\n",
       "      <td>3</td>\n",
       "      <td>0.20</td>\n",
       "      <td>4.1028</td>\n",
       "    </tr>\n",
       "    <tr>\n",
       "      <th>9990</th>\n",
       "      <td>Standard Class</td>\n",
       "      <td>Consumer</td>\n",
       "      <td>United States</td>\n",
       "      <td>Costa Mesa</td>\n",
       "      <td>California</td>\n",
       "      <td>92627</td>\n",
       "      <td>West</td>\n",
       "      <td>Furniture</td>\n",
       "      <td>Furnishings</td>\n",
       "      <td>91.9600</td>\n",
       "      <td>2</td>\n",
       "      <td>0.00</td>\n",
       "      <td>15.6332</td>\n",
       "    </tr>\n",
       "    <tr>\n",
       "      <th>9991</th>\n",
       "      <td>Standard Class</td>\n",
       "      <td>Consumer</td>\n",
       "      <td>United States</td>\n",
       "      <td>Costa Mesa</td>\n",
       "      <td>California</td>\n",
       "      <td>92627</td>\n",
       "      <td>West</td>\n",
       "      <td>Technology</td>\n",
       "      <td>Phones</td>\n",
       "      <td>258.5760</td>\n",
       "      <td>2</td>\n",
       "      <td>0.20</td>\n",
       "      <td>19.3932</td>\n",
       "    </tr>\n",
       "    <tr>\n",
       "      <th>9992</th>\n",
       "      <td>Standard Class</td>\n",
       "      <td>Consumer</td>\n",
       "      <td>United States</td>\n",
       "      <td>Costa Mesa</td>\n",
       "      <td>California</td>\n",
       "      <td>92627</td>\n",
       "      <td>West</td>\n",
       "      <td>Office Supplies</td>\n",
       "      <td>Paper</td>\n",
       "      <td>29.6000</td>\n",
       "      <td>4</td>\n",
       "      <td>0.00</td>\n",
       "      <td>13.3200</td>\n",
       "    </tr>\n",
       "    <tr>\n",
       "      <th>9993</th>\n",
       "      <td>Second Class</td>\n",
       "      <td>Consumer</td>\n",
       "      <td>United States</td>\n",
       "      <td>Westminster</td>\n",
       "      <td>California</td>\n",
       "      <td>92683</td>\n",
       "      <td>West</td>\n",
       "      <td>Office Supplies</td>\n",
       "      <td>Appliances</td>\n",
       "      <td>243.1600</td>\n",
       "      <td>2</td>\n",
       "      <td>0.00</td>\n",
       "      <td>72.9480</td>\n",
       "    </tr>\n",
       "  </tbody>\n",
       "</table>\n",
       "<p>9994 rows × 13 columns</p>\n",
       "</div>"
      ],
      "text/plain": [
       "           Ship Mode    Segment        Country             City       State  \\\n",
       "0       Second Class   Consumer  United States        Henderson    Kentucky   \n",
       "1       Second Class   Consumer  United States        Henderson    Kentucky   \n",
       "2       Second Class  Corporate  United States      Los Angeles  California   \n",
       "3     Standard Class   Consumer  United States  Fort Lauderdale     Florida   \n",
       "4     Standard Class   Consumer  United States  Fort Lauderdale     Florida   \n",
       "...              ...        ...            ...              ...         ...   \n",
       "9989    Second Class   Consumer  United States            Miami     Florida   \n",
       "9990  Standard Class   Consumer  United States       Costa Mesa  California   \n",
       "9991  Standard Class   Consumer  United States       Costa Mesa  California   \n",
       "9992  Standard Class   Consumer  United States       Costa Mesa  California   \n",
       "9993    Second Class   Consumer  United States      Westminster  California   \n",
       "\n",
       "      Postal Code Region         Category Sub-Category     Sales  Quantity  \\\n",
       "0           42420  South        Furniture    Bookcases  261.9600         2   \n",
       "1           42420  South        Furniture       Chairs  731.9400         3   \n",
       "2           90036   West  Office Supplies       Labels   14.6200         2   \n",
       "3           33311  South        Furniture       Tables  957.5775         5   \n",
       "4           33311  South  Office Supplies      Storage   22.3680         2   \n",
       "...           ...    ...              ...          ...       ...       ...   \n",
       "9989        33180  South        Furniture  Furnishings   25.2480         3   \n",
       "9990        92627   West        Furniture  Furnishings   91.9600         2   \n",
       "9991        92627   West       Technology       Phones  258.5760         2   \n",
       "9992        92627   West  Office Supplies        Paper   29.6000         4   \n",
       "9993        92683   West  Office Supplies   Appliances  243.1600         2   \n",
       "\n",
       "      Discount    Profit  \n",
       "0         0.00   41.9136  \n",
       "1         0.00  219.5820  \n",
       "2         0.00    6.8714  \n",
       "3         0.45 -383.0310  \n",
       "4         0.20    2.5164  \n",
       "...        ...       ...  \n",
       "9989      0.20    4.1028  \n",
       "9990      0.00   15.6332  \n",
       "9991      0.20   19.3932  \n",
       "9992      0.00   13.3200  \n",
       "9993      0.00   72.9480  \n",
       "\n",
       "[9994 rows x 13 columns]"
      ]
     },
     "execution_count": 5,
     "metadata": {},
     "output_type": "execute_result"
    }
   ],
   "source": [
    "samplesuperstore = pd.read_csv('SampleSuperstore.csv')\n",
    "samplesuperstore"
   ]
  },
  {
   "cell_type": "markdown",
   "id": "8d38660e",
   "metadata": {},
   "source": [
    "# Checking Statistics of the Dataset"
   ]
  },
  {
   "cell_type": "code",
   "execution_count": 6,
   "id": "27af9292",
   "metadata": {},
   "outputs": [
    {
     "name": "stdout",
     "output_type": "stream",
     "text": [
      "<class 'pandas.core.frame.DataFrame'>\n",
      "RangeIndex: 9994 entries, 0 to 9993\n",
      "Data columns (total 13 columns):\n",
      " #   Column        Non-Null Count  Dtype  \n",
      "---  ------        --------------  -----  \n",
      " 0   Ship Mode     9994 non-null   object \n",
      " 1   Segment       9994 non-null   object \n",
      " 2   Country       9994 non-null   object \n",
      " 3   City          9994 non-null   object \n",
      " 4   State         9994 non-null   object \n",
      " 5   Postal Code   9994 non-null   int64  \n",
      " 6   Region        9994 non-null   object \n",
      " 7   Category      9994 non-null   object \n",
      " 8   Sub-Category  9994 non-null   object \n",
      " 9   Sales         9994 non-null   float64\n",
      " 10  Quantity      9994 non-null   int64  \n",
      " 11  Discount      9994 non-null   float64\n",
      " 12  Profit        9994 non-null   float64\n",
      "dtypes: float64(3), int64(2), object(8)\n",
      "memory usage: 1015.1+ KB\n"
     ]
    }
   ],
   "source": [
    "samplesuperstore.info()"
   ]
  },
  {
   "cell_type": "code",
   "execution_count": 7,
   "id": "86fd86cc",
   "metadata": {},
   "outputs": [
    {
     "data": {
      "text/html": [
       "<div>\n",
       "<style scoped>\n",
       "    .dataframe tbody tr th:only-of-type {\n",
       "        vertical-align: middle;\n",
       "    }\n",
       "\n",
       "    .dataframe tbody tr th {\n",
       "        vertical-align: top;\n",
       "    }\n",
       "\n",
       "    .dataframe thead th {\n",
       "        text-align: right;\n",
       "    }\n",
       "</style>\n",
       "<table border=\"1\" class=\"dataframe\">\n",
       "  <thead>\n",
       "    <tr style=\"text-align: right;\">\n",
       "      <th></th>\n",
       "      <th>Postal Code</th>\n",
       "      <th>Sales</th>\n",
       "      <th>Quantity</th>\n",
       "      <th>Discount</th>\n",
       "      <th>Profit</th>\n",
       "    </tr>\n",
       "  </thead>\n",
       "  <tbody>\n",
       "    <tr>\n",
       "      <th>count</th>\n",
       "      <td>9994.000000</td>\n",
       "      <td>9994.000000</td>\n",
       "      <td>9994.000000</td>\n",
       "      <td>9994.000000</td>\n",
       "      <td>9994.000000</td>\n",
       "    </tr>\n",
       "    <tr>\n",
       "      <th>mean</th>\n",
       "      <td>55190.379428</td>\n",
       "      <td>229.858001</td>\n",
       "      <td>3.789574</td>\n",
       "      <td>0.156203</td>\n",
       "      <td>28.656896</td>\n",
       "    </tr>\n",
       "    <tr>\n",
       "      <th>std</th>\n",
       "      <td>32063.693350</td>\n",
       "      <td>623.245101</td>\n",
       "      <td>2.225110</td>\n",
       "      <td>0.206452</td>\n",
       "      <td>234.260108</td>\n",
       "    </tr>\n",
       "    <tr>\n",
       "      <th>min</th>\n",
       "      <td>1040.000000</td>\n",
       "      <td>0.444000</td>\n",
       "      <td>1.000000</td>\n",
       "      <td>0.000000</td>\n",
       "      <td>-6599.978000</td>\n",
       "    </tr>\n",
       "    <tr>\n",
       "      <th>25%</th>\n",
       "      <td>23223.000000</td>\n",
       "      <td>17.280000</td>\n",
       "      <td>2.000000</td>\n",
       "      <td>0.000000</td>\n",
       "      <td>1.728750</td>\n",
       "    </tr>\n",
       "    <tr>\n",
       "      <th>50%</th>\n",
       "      <td>56430.500000</td>\n",
       "      <td>54.490000</td>\n",
       "      <td>3.000000</td>\n",
       "      <td>0.200000</td>\n",
       "      <td>8.666500</td>\n",
       "    </tr>\n",
       "    <tr>\n",
       "      <th>75%</th>\n",
       "      <td>90008.000000</td>\n",
       "      <td>209.940000</td>\n",
       "      <td>5.000000</td>\n",
       "      <td>0.200000</td>\n",
       "      <td>29.364000</td>\n",
       "    </tr>\n",
       "    <tr>\n",
       "      <th>max</th>\n",
       "      <td>99301.000000</td>\n",
       "      <td>22638.480000</td>\n",
       "      <td>14.000000</td>\n",
       "      <td>0.800000</td>\n",
       "      <td>8399.976000</td>\n",
       "    </tr>\n",
       "  </tbody>\n",
       "</table>\n",
       "</div>"
      ],
      "text/plain": [
       "        Postal Code         Sales     Quantity     Discount       Profit\n",
       "count   9994.000000   9994.000000  9994.000000  9994.000000  9994.000000\n",
       "mean   55190.379428    229.858001     3.789574     0.156203    28.656896\n",
       "std    32063.693350    623.245101     2.225110     0.206452   234.260108\n",
       "min     1040.000000      0.444000     1.000000     0.000000 -6599.978000\n",
       "25%    23223.000000     17.280000     2.000000     0.000000     1.728750\n",
       "50%    56430.500000     54.490000     3.000000     0.200000     8.666500\n",
       "75%    90008.000000    209.940000     5.000000     0.200000    29.364000\n",
       "max    99301.000000  22638.480000    14.000000     0.800000  8399.976000"
      ]
     },
     "execution_count": 7,
     "metadata": {},
     "output_type": "execute_result"
    }
   ],
   "source": [
    "samplesuperstore.describe()"
   ]
  },
  {
   "cell_type": "markdown",
   "id": "987c78a8",
   "metadata": {},
   "source": [
    "# Filtering the Dataset "
   ]
  },
  {
   "cell_type": "code",
   "execution_count": 8,
   "id": "2e123716",
   "metadata": {},
   "outputs": [
    {
     "data": {
      "text/plain": [
       "Ship Mode       0\n",
       "Segment         0\n",
       "Country         0\n",
       "City            0\n",
       "State           0\n",
       "Postal Code     0\n",
       "Region          0\n",
       "Category        0\n",
       "Sub-Category    0\n",
       "Sales           0\n",
       "Quantity        0\n",
       "Discount        0\n",
       "Profit          0\n",
       "dtype: int64"
      ]
     },
     "execution_count": 8,
     "metadata": {},
     "output_type": "execute_result"
    }
   ],
   "source": [
    "#checking for null values in the dataset\n",
    "samplesuperstore.isnull().sum()"
   ]
  },
  {
   "cell_type": "code",
   "execution_count": 9,
   "id": "899480a8",
   "metadata": {},
   "outputs": [
    {
     "data": {
      "text/plain": [
       "17"
      ]
     },
     "execution_count": 9,
     "metadata": {},
     "output_type": "execute_result"
    }
   ],
   "source": [
    "#now lets check if there is any duplicate values in the dataset\n",
    "samplesuperstore.duplicated().sum()"
   ]
  },
  {
   "cell_type": "code",
   "execution_count": 10,
   "id": "dd7d6b5c",
   "metadata": {},
   "outputs": [
    {
     "data": {
      "text/plain": [
       "0"
      ]
     },
     "execution_count": 10,
     "metadata": {},
     "output_type": "execute_result"
    }
   ],
   "source": [
    "#lets remove all the duplicate values from the dataset\n",
    "# store the data into new object\n",
    "\n",
    "superstore = samplesuperstore.drop_duplicates()\n",
    "\n",
    "#checking if any duplicate value still remains\n",
    "superstore.duplicated().sum()"
   ]
  },
  {
   "cell_type": "code",
   "execution_count": 11,
   "id": "b6b3abc1",
   "metadata": {},
   "outputs": [
    {
     "data": {
      "text/plain": [
       "(9977, 13)"
      ]
     },
     "execution_count": 11,
     "metadata": {},
     "output_type": "execute_result"
    }
   ],
   "source": [
    "superstore.shape"
   ]
  },
  {
   "cell_type": "code",
   "execution_count": 12,
   "id": "507e4126",
   "metadata": {},
   "outputs": [
    {
     "data": {
      "text/html": [
       "<div>\n",
       "<style scoped>\n",
       "    .dataframe tbody tr th:only-of-type {\n",
       "        vertical-align: middle;\n",
       "    }\n",
       "\n",
       "    .dataframe tbody tr th {\n",
       "        vertical-align: top;\n",
       "    }\n",
       "\n",
       "    .dataframe thead th {\n",
       "        text-align: right;\n",
       "    }\n",
       "</style>\n",
       "<table border=\"1\" class=\"dataframe\">\n",
       "  <thead>\n",
       "    <tr style=\"text-align: right;\">\n",
       "      <th></th>\n",
       "      <th>Ship Mode</th>\n",
       "      <th>Segment</th>\n",
       "      <th>Country</th>\n",
       "      <th>City</th>\n",
       "      <th>State</th>\n",
       "      <th>Postal Code</th>\n",
       "      <th>Region</th>\n",
       "      <th>Category</th>\n",
       "      <th>Sub-Category</th>\n",
       "      <th>Sales</th>\n",
       "      <th>Quantity</th>\n",
       "      <th>Discount</th>\n",
       "      <th>Profit</th>\n",
       "    </tr>\n",
       "  </thead>\n",
       "  <tbody>\n",
       "    <tr>\n",
       "      <th>2697</th>\n",
       "      <td>Standard Class</td>\n",
       "      <td>Home Office</td>\n",
       "      <td>United States</td>\n",
       "      <td>Jacksonville</td>\n",
       "      <td>Florida</td>\n",
       "      <td>32216</td>\n",
       "      <td>South</td>\n",
       "      <td>Technology</td>\n",
       "      <td>Machines</td>\n",
       "      <td>22638.480</td>\n",
       "      <td>6</td>\n",
       "      <td>0.5</td>\n",
       "      <td>-1811.0784</td>\n",
       "    </tr>\n",
       "    <tr>\n",
       "      <th>6826</th>\n",
       "      <td>Standard Class</td>\n",
       "      <td>Corporate</td>\n",
       "      <td>United States</td>\n",
       "      <td>Lafayette</td>\n",
       "      <td>Indiana</td>\n",
       "      <td>47905</td>\n",
       "      <td>Central</td>\n",
       "      <td>Technology</td>\n",
       "      <td>Copiers</td>\n",
       "      <td>17499.950</td>\n",
       "      <td>5</td>\n",
       "      <td>0.0</td>\n",
       "      <td>8399.9760</td>\n",
       "    </tr>\n",
       "    <tr>\n",
       "      <th>8153</th>\n",
       "      <td>First Class</td>\n",
       "      <td>Consumer</td>\n",
       "      <td>United States</td>\n",
       "      <td>Seattle</td>\n",
       "      <td>Washington</td>\n",
       "      <td>98115</td>\n",
       "      <td>West</td>\n",
       "      <td>Technology</td>\n",
       "      <td>Copiers</td>\n",
       "      <td>13999.960</td>\n",
       "      <td>4</td>\n",
       "      <td>0.0</td>\n",
       "      <td>6719.9808</td>\n",
       "    </tr>\n",
       "    <tr>\n",
       "      <th>2623</th>\n",
       "      <td>First Class</td>\n",
       "      <td>Home Office</td>\n",
       "      <td>United States</td>\n",
       "      <td>New York City</td>\n",
       "      <td>New York</td>\n",
       "      <td>10024</td>\n",
       "      <td>East</td>\n",
       "      <td>Technology</td>\n",
       "      <td>Copiers</td>\n",
       "      <td>11199.968</td>\n",
       "      <td>4</td>\n",
       "      <td>0.2</td>\n",
       "      <td>3919.9888</td>\n",
       "    </tr>\n",
       "    <tr>\n",
       "      <th>4190</th>\n",
       "      <td>Standard Class</td>\n",
       "      <td>Consumer</td>\n",
       "      <td>United States</td>\n",
       "      <td>Newark</td>\n",
       "      <td>Delaware</td>\n",
       "      <td>19711</td>\n",
       "      <td>East</td>\n",
       "      <td>Technology</td>\n",
       "      <td>Copiers</td>\n",
       "      <td>10499.970</td>\n",
       "      <td>3</td>\n",
       "      <td>0.0</td>\n",
       "      <td>5039.9856</td>\n",
       "    </tr>\n",
       "    <tr>\n",
       "      <th>9039</th>\n",
       "      <td>Standard Class</td>\n",
       "      <td>Consumer</td>\n",
       "      <td>United States</td>\n",
       "      <td>Detroit</td>\n",
       "      <td>Michigan</td>\n",
       "      <td>48205</td>\n",
       "      <td>Central</td>\n",
       "      <td>Office Supplies</td>\n",
       "      <td>Binders</td>\n",
       "      <td>9892.740</td>\n",
       "      <td>13</td>\n",
       "      <td>0.0</td>\n",
       "      <td>4946.3700</td>\n",
       "    </tr>\n",
       "    <tr>\n",
       "      <th>4098</th>\n",
       "      <td>Standard Class</td>\n",
       "      <td>Consumer</td>\n",
       "      <td>United States</td>\n",
       "      <td>Minneapolis</td>\n",
       "      <td>Minnesota</td>\n",
       "      <td>55407</td>\n",
       "      <td>Central</td>\n",
       "      <td>Office Supplies</td>\n",
       "      <td>Binders</td>\n",
       "      <td>9449.950</td>\n",
       "      <td>5</td>\n",
       "      <td>0.0</td>\n",
       "      <td>4630.4755</td>\n",
       "    </tr>\n",
       "    <tr>\n",
       "      <th>4277</th>\n",
       "      <td>Standard Class</td>\n",
       "      <td>Corporate</td>\n",
       "      <td>United States</td>\n",
       "      <td>Lakewood</td>\n",
       "      <td>New Jersey</td>\n",
       "      <td>8701</td>\n",
       "      <td>East</td>\n",
       "      <td>Technology</td>\n",
       "      <td>Machines</td>\n",
       "      <td>9099.930</td>\n",
       "      <td>7</td>\n",
       "      <td>0.0</td>\n",
       "      <td>2365.9818</td>\n",
       "    </tr>\n",
       "    <tr>\n",
       "      <th>8488</th>\n",
       "      <td>Second Class</td>\n",
       "      <td>Consumer</td>\n",
       "      <td>United States</td>\n",
       "      <td>Arlington</td>\n",
       "      <td>Virginia</td>\n",
       "      <td>22204</td>\n",
       "      <td>South</td>\n",
       "      <td>Technology</td>\n",
       "      <td>Machines</td>\n",
       "      <td>8749.950</td>\n",
       "      <td>5</td>\n",
       "      <td>0.0</td>\n",
       "      <td>2799.9840</td>\n",
       "    </tr>\n",
       "    <tr>\n",
       "      <th>6425</th>\n",
       "      <td>Standard Class</td>\n",
       "      <td>Consumer</td>\n",
       "      <td>United States</td>\n",
       "      <td>Philadelphia</td>\n",
       "      <td>Pennsylvania</td>\n",
       "      <td>19120</td>\n",
       "      <td>East</td>\n",
       "      <td>Technology</td>\n",
       "      <td>Copiers</td>\n",
       "      <td>8399.976</td>\n",
       "      <td>4</td>\n",
       "      <td>0.4</td>\n",
       "      <td>1119.9968</td>\n",
       "    </tr>\n",
       "  </tbody>\n",
       "</table>\n",
       "</div>"
      ],
      "text/plain": [
       "           Ship Mode      Segment        Country           City         State  \\\n",
       "2697  Standard Class  Home Office  United States   Jacksonville       Florida   \n",
       "6826  Standard Class    Corporate  United States      Lafayette       Indiana   \n",
       "8153     First Class     Consumer  United States        Seattle    Washington   \n",
       "2623     First Class  Home Office  United States  New York City      New York   \n",
       "4190  Standard Class     Consumer  United States         Newark      Delaware   \n",
       "9039  Standard Class     Consumer  United States        Detroit      Michigan   \n",
       "4098  Standard Class     Consumer  United States    Minneapolis     Minnesota   \n",
       "4277  Standard Class    Corporate  United States       Lakewood    New Jersey   \n",
       "8488    Second Class     Consumer  United States      Arlington      Virginia   \n",
       "6425  Standard Class     Consumer  United States   Philadelphia  Pennsylvania   \n",
       "\n",
       "      Postal Code   Region         Category Sub-Category      Sales  Quantity  \\\n",
       "2697        32216    South       Technology     Machines  22638.480         6   \n",
       "6826        47905  Central       Technology      Copiers  17499.950         5   \n",
       "8153        98115     West       Technology      Copiers  13999.960         4   \n",
       "2623        10024     East       Technology      Copiers  11199.968         4   \n",
       "4190        19711     East       Technology      Copiers  10499.970         3   \n",
       "9039        48205  Central  Office Supplies      Binders   9892.740        13   \n",
       "4098        55407  Central  Office Supplies      Binders   9449.950         5   \n",
       "4277         8701     East       Technology     Machines   9099.930         7   \n",
       "8488        22204    South       Technology     Machines   8749.950         5   \n",
       "6425        19120     East       Technology      Copiers   8399.976         4   \n",
       "\n",
       "      Discount     Profit  \n",
       "2697       0.5 -1811.0784  \n",
       "6826       0.0  8399.9760  \n",
       "8153       0.0  6719.9808  \n",
       "2623       0.2  3919.9888  \n",
       "4190       0.0  5039.9856  \n",
       "9039       0.0  4946.3700  \n",
       "4098       0.0  4630.4755  \n",
       "4277       0.0  2365.9818  \n",
       "8488       0.0  2799.9840  \n",
       "6425       0.4  1119.9968  "
      ]
     },
     "execution_count": 12,
     "metadata": {},
     "output_type": "execute_result"
    }
   ],
   "source": [
    "superstore = superstore.sort_values(by=['Sales'], ascending=False)\n",
    "superstore.head(10)"
   ]
  },
  {
   "cell_type": "markdown",
   "id": "f0f2155f",
   "metadata": {},
   "source": [
    "# Data Analysis "
   ]
  },
  {
   "cell_type": "code",
   "execution_count": 13,
   "id": "3ab77689",
   "metadata": {},
   "outputs": [
    {
     "name": "stdout",
     "output_type": "stream",
     "text": [
      "Total sales is: \n",
      "2296195.5903000007\n"
     ]
    }
   ],
   "source": [
    "print(\"Total sales is: \")\n",
    "print(superstore['Sales'].sum())"
   ]
  },
  {
   "cell_type": "code",
   "execution_count": 14,
   "id": "90c968c5",
   "metadata": {},
   "outputs": [
    {
     "name": "stdout",
     "output_type": "stream",
     "text": [
      "Maximum sales : \n",
      "22638.48\n"
     ]
    }
   ],
   "source": [
    "print(\"Maximum sales : \")\n",
    "print(superstore['Sales'].max())"
   ]
  },
  {
   "cell_type": "code",
   "execution_count": 15,
   "id": "426fbdad",
   "metadata": {},
   "outputs": [
    {
     "name": "stdout",
     "output_type": "stream",
     "text": [
      "Total profit is : \n",
      "286241.4226\n"
     ]
    }
   ],
   "source": [
    "print(\"Total profit is : \")\n",
    "print(superstore['Profit'].sum())"
   ]
  },
  {
   "cell_type": "code",
   "execution_count": 16,
   "id": "ead34090",
   "metadata": {},
   "outputs": [
    {
     "name": "stdout",
     "output_type": "stream",
     "text": [
      "Maximum profit is: \n",
      "8399.976\n"
     ]
    }
   ],
   "source": [
    "print(\"Maximum profit is: \")\n",
    "print(superstore['Profit'].max())"
   ]
  },
  {
   "cell_type": "code",
   "execution_count": 17,
   "id": "f5fa0852",
   "metadata": {},
   "outputs": [
    {
     "data": {
      "text/plain": [
       "State\n",
       "California              457576.2715\n",
       "New York                310827.1510\n",
       "Texas                   170124.5418\n",
       "Washington              138560.8100\n",
       "Pennsylvania            116496.3620\n",
       "Florida                  89473.7080\n",
       "Illinois                 80162.5370\n",
       "Ohio                     77976.7640\n",
       "Michigan                 75879.6440\n",
       "Virginia                 70636.7200\n",
       "North Carolina           55603.1640\n",
       "Indiana                  53555.3600\n",
       "Georgia                  49095.8400\n",
       "Kentucky                 36591.7500\n",
       "New Jersey               35764.3120\n",
       "Arizona                  35282.0010\n",
       "Wisconsin                32114.6100\n",
       "Colorado                 32108.1180\n",
       "Tennessee                30661.8730\n",
       "Minnesota                29863.1500\n",
       "Massachusetts            28634.4340\n",
       "Delaware                 27451.0690\n",
       "Maryland                 23705.5230\n",
       "Rhode Island             22627.9560\n",
       "Missouri                 22205.1500\n",
       "Oklahoma                 19683.3900\n",
       "Alabama                  19510.6400\n",
       "Oregon                   17420.7820\n",
       "Nevada                   16729.1020\n",
       "Connecticut              13384.3570\n",
       "Arkansas                 11678.1300\n",
       "Utah                     11220.0560\n",
       "Mississippi              10771.3400\n",
       "Louisiana                 9217.0300\n",
       "Vermont                   8929.3700\n",
       "South Carolina            8481.7100\n",
       "Nebraska                  7464.9300\n",
       "New Hampshire             7292.5240\n",
       "Montana                   5589.3520\n",
       "New Mexico                4783.5220\n",
       "Iowa                      4579.7600\n",
       "Idaho                     4382.4860\n",
       "Kansas                    2914.3100\n",
       "District of Columbia      2865.0200\n",
       "Wyoming                   1603.1360\n",
       "South Dakota              1315.5600\n",
       "Maine                     1270.5300\n",
       "West Virginia             1209.8240\n",
       "North Dakota               919.9100\n",
       "Name: Sales, dtype: float64"
      ]
     },
     "execution_count": 17,
     "metadata": {},
     "output_type": "execute_result"
    }
   ],
   "source": [
    "superstore.groupby(['State'])['Sales'].sum().sort_values(ascending=False)"
   ]
  },
  {
   "cell_type": "markdown",
   "id": "f17bb4eb",
   "metadata": {},
   "source": [
    "Most sales done in California and New York\n",
    "\n",
    "Worst sales done in West Virginia and North Dakota"
   ]
  },
  {
   "cell_type": "code",
   "execution_count": 18,
   "id": "213b9c85",
   "metadata": {},
   "outputs": [
    {
     "data": {
      "text/plain": [
       "State\n",
       "California              76330.7891\n",
       "New York                74015.4622\n",
       "Washington              33368.2375\n",
       "Michigan                24428.0903\n",
       "Virginia                18597.9504\n",
       "Indiana                 18382.9363\n",
       "Georgia                 16250.0433\n",
       "Kentucky                11199.6966\n",
       "Minnesota               10823.1874\n",
       "Delaware                 9977.3748\n",
       "New Jersey               9772.9138\n",
       "Wisconsin                8401.8004\n",
       "Rhode Island             7285.6293\n",
       "Maryland                 7031.1788\n",
       "Massachusetts            6785.5016\n",
       "Missouri                 6436.2105\n",
       "Alabama                  5786.8253\n",
       "Oklahoma                 4853.9560\n",
       "Arkansas                 4008.6871\n",
       "Connecticut              3511.4918\n",
       "Nevada                   3316.7659\n",
       "Mississippi              3172.9762\n",
       "Utah                     2546.5335\n",
       "Vermont                  2244.9783\n",
       "Louisiana                2196.1023\n",
       "Nebraska                 2037.0942\n",
       "Montana                  1833.3285\n",
       "South Carolina           1769.0566\n",
       "New Hampshire            1706.5028\n",
       "Iowa                     1183.8119\n",
       "New Mexico               1157.1161\n",
       "District of Columbia     1059.5893\n",
       "Kansas                    836.4435\n",
       "Idaho                     826.7231\n",
       "Maine                     454.4862\n",
       "South Dakota              394.8283\n",
       "North Dakota              230.1497\n",
       "West Virginia             185.9216\n",
       "Wyoming                   100.1960\n",
       "Oregon                  -1194.0993\n",
       "Florida                 -3399.3017\n",
       "Arizona                 -3427.9246\n",
       "Tennessee               -5341.6936\n",
       "Colorado                -6527.8579\n",
       "North Carolina          -7490.9122\n",
       "Illinois               -12601.6500\n",
       "Pennsylvania           -15565.4035\n",
       "Ohio                   -16959.3178\n",
       "Texas                  -25750.9833\n",
       "Name: Profit, dtype: float64"
      ]
     },
     "execution_count": 18,
     "metadata": {},
     "output_type": "execute_result"
    }
   ],
   "source": [
    "superstore.groupby(['State'])['Profit'].sum().sort_values(ascending=False)"
   ]
  },
  {
   "cell_type": "markdown",
   "id": "c13c30e4",
   "metadata": {},
   "source": [
    "Most profit made in California and New York\n",
    "\n",
    "Worst profit made in Ohio and Texas"
   ]
  },
  {
   "cell_type": "code",
   "execution_count": 19,
   "id": "a3a74e96",
   "metadata": {},
   "outputs": [
    {
     "name": "stderr",
     "output_type": "stream",
     "text": [
      "C:\\Users\\suman jha\\AppData\\Local\\Temp\\ipykernel_5712\\1736848376.py:1: FutureWarning: Indexing with multiple keys (implicitly converted to a tuple of keys) will be deprecated, use a list instead.\n",
      "  superstore.groupby(['State'])['Sales', 'Profit'].sum().plot.bar(color=['violet','green'],figsize=(20,10))\n"
     ]
    },
    {
     "data": {
      "image/png": "[encoded data removed]",
      "text/plain": [
       "<Figure size 1440x720 with 1 Axes>"
      ]
     },
     "metadata": {
      "needs_background": "light"
     },
     "output_type": "display_data"
    }
   ],
   "source": [
    "superstore.groupby(['State'])['Sales', 'Profit'].sum().plot.bar(color=['violet','green'],figsize=(20,10))\n",
    "plt.title('state wise sales')\n",
    "plt.xlabel('Sales')\n",
    "plt.ylabel('States')\n",
    "plt.show()"
   ]
  },
  {
   "cell_type": "code",
   "execution_count": 20,
   "id": "d1ea17c9",
   "metadata": {},
   "outputs": [
    {
     "data": {
      "text/html": [
       "<div>\n",
       "<style scoped>\n",
       "    .dataframe tbody tr th:only-of-type {\n",
       "        vertical-align: middle;\n",
       "    }\n",
       "\n",
       "    .dataframe tbody tr th {\n",
       "        vertical-align: top;\n",
       "    }\n",
       "\n",
       "    .dataframe thead th {\n",
       "        text-align: right;\n",
       "    }\n",
       "</style>\n",
       "<table border=\"1\" class=\"dataframe\">\n",
       "  <thead>\n",
       "    <tr style=\"text-align: right;\">\n",
       "      <th></th>\n",
       "      <th>Ship Mode</th>\n",
       "      <th>Segment</th>\n",
       "      <th>Country</th>\n",
       "      <th>City</th>\n",
       "      <th>State</th>\n",
       "      <th>Postal Code</th>\n",
       "      <th>Region</th>\n",
       "      <th>Category</th>\n",
       "      <th>Sub-Category</th>\n",
       "      <th>Sales</th>\n",
       "      <th>Quantity</th>\n",
       "      <th>Discount</th>\n",
       "      <th>Profit</th>\n",
       "    </tr>\n",
       "  </thead>\n",
       "  <tbody>\n",
       "    <tr>\n",
       "      <th>2697</th>\n",
       "      <td>Standard Class</td>\n",
       "      <td>Home Office</td>\n",
       "      <td>United States</td>\n",
       "      <td>Jacksonville</td>\n",
       "      <td>Florida</td>\n",
       "      <td>32216</td>\n",
       "      <td>South</td>\n",
       "      <td>Technology</td>\n",
       "      <td>Machines</td>\n",
       "      <td>22638.480</td>\n",
       "      <td>6</td>\n",
       "      <td>0.5</td>\n",
       "      <td>-1811.0784</td>\n",
       "    </tr>\n",
       "    <tr>\n",
       "      <th>6826</th>\n",
       "      <td>Standard Class</td>\n",
       "      <td>Corporate</td>\n",
       "      <td>United States</td>\n",
       "      <td>Lafayette</td>\n",
       "      <td>Indiana</td>\n",
       "      <td>47905</td>\n",
       "      <td>Central</td>\n",
       "      <td>Technology</td>\n",
       "      <td>Copiers</td>\n",
       "      <td>17499.950</td>\n",
       "      <td>5</td>\n",
       "      <td>0.0</td>\n",
       "      <td>8399.9760</td>\n",
       "    </tr>\n",
       "    <tr>\n",
       "      <th>8153</th>\n",
       "      <td>First Class</td>\n",
       "      <td>Consumer</td>\n",
       "      <td>United States</td>\n",
       "      <td>Seattle</td>\n",
       "      <td>Washington</td>\n",
       "      <td>98115</td>\n",
       "      <td>West</td>\n",
       "      <td>Technology</td>\n",
       "      <td>Copiers</td>\n",
       "      <td>13999.960</td>\n",
       "      <td>4</td>\n",
       "      <td>0.0</td>\n",
       "      <td>6719.9808</td>\n",
       "    </tr>\n",
       "    <tr>\n",
       "      <th>2623</th>\n",
       "      <td>First Class</td>\n",
       "      <td>Home Office</td>\n",
       "      <td>United States</td>\n",
       "      <td>New York City</td>\n",
       "      <td>New York</td>\n",
       "      <td>10024</td>\n",
       "      <td>East</td>\n",
       "      <td>Technology</td>\n",
       "      <td>Copiers</td>\n",
       "      <td>11199.968</td>\n",
       "      <td>4</td>\n",
       "      <td>0.2</td>\n",
       "      <td>3919.9888</td>\n",
       "    </tr>\n",
       "    <tr>\n",
       "      <th>4190</th>\n",
       "      <td>Standard Class</td>\n",
       "      <td>Consumer</td>\n",
       "      <td>United States</td>\n",
       "      <td>Newark</td>\n",
       "      <td>Delaware</td>\n",
       "      <td>19711</td>\n",
       "      <td>East</td>\n",
       "      <td>Technology</td>\n",
       "      <td>Copiers</td>\n",
       "      <td>10499.970</td>\n",
       "      <td>3</td>\n",
       "      <td>0.0</td>\n",
       "      <td>5039.9856</td>\n",
       "    </tr>\n",
       "    <tr>\n",
       "      <th>9039</th>\n",
       "      <td>Standard Class</td>\n",
       "      <td>Consumer</td>\n",
       "      <td>United States</td>\n",
       "      <td>Detroit</td>\n",
       "      <td>Michigan</td>\n",
       "      <td>48205</td>\n",
       "      <td>Central</td>\n",
       "      <td>Office Supplies</td>\n",
       "      <td>Binders</td>\n",
       "      <td>9892.740</td>\n",
       "      <td>13</td>\n",
       "      <td>0.0</td>\n",
       "      <td>4946.3700</td>\n",
       "    </tr>\n",
       "    <tr>\n",
       "      <th>4098</th>\n",
       "      <td>Standard Class</td>\n",
       "      <td>Consumer</td>\n",
       "      <td>United States</td>\n",
       "      <td>Minneapolis</td>\n",
       "      <td>Minnesota</td>\n",
       "      <td>55407</td>\n",
       "      <td>Central</td>\n",
       "      <td>Office Supplies</td>\n",
       "      <td>Binders</td>\n",
       "      <td>9449.950</td>\n",
       "      <td>5</td>\n",
       "      <td>0.0</td>\n",
       "      <td>4630.4755</td>\n",
       "    </tr>\n",
       "    <tr>\n",
       "      <th>4277</th>\n",
       "      <td>Standard Class</td>\n",
       "      <td>Corporate</td>\n",
       "      <td>United States</td>\n",
       "      <td>Lakewood</td>\n",
       "      <td>New Jersey</td>\n",
       "      <td>8701</td>\n",
       "      <td>East</td>\n",
       "      <td>Technology</td>\n",
       "      <td>Machines</td>\n",
       "      <td>9099.930</td>\n",
       "      <td>7</td>\n",
       "      <td>0.0</td>\n",
       "      <td>2365.9818</td>\n",
       "    </tr>\n",
       "    <tr>\n",
       "      <th>8488</th>\n",
       "      <td>Second Class</td>\n",
       "      <td>Consumer</td>\n",
       "      <td>United States</td>\n",
       "      <td>Arlington</td>\n",
       "      <td>Virginia</td>\n",
       "      <td>22204</td>\n",
       "      <td>South</td>\n",
       "      <td>Technology</td>\n",
       "      <td>Machines</td>\n",
       "      <td>8749.950</td>\n",
       "      <td>5</td>\n",
       "      <td>0.0</td>\n",
       "      <td>2799.9840</td>\n",
       "    </tr>\n",
       "    <tr>\n",
       "      <th>6425</th>\n",
       "      <td>Standard Class</td>\n",
       "      <td>Consumer</td>\n",
       "      <td>United States</td>\n",
       "      <td>Philadelphia</td>\n",
       "      <td>Pennsylvania</td>\n",
       "      <td>19120</td>\n",
       "      <td>East</td>\n",
       "      <td>Technology</td>\n",
       "      <td>Copiers</td>\n",
       "      <td>8399.976</td>\n",
       "      <td>4</td>\n",
       "      <td>0.4</td>\n",
       "      <td>1119.9968</td>\n",
       "    </tr>\n",
       "  </tbody>\n",
       "</table>\n",
       "</div>"
      ],
      "text/plain": [
       "           Ship Mode      Segment        Country           City         State  \\\n",
       "2697  Standard Class  Home Office  United States   Jacksonville       Florida   \n",
       "6826  Standard Class    Corporate  United States      Lafayette       Indiana   \n",
       "8153     First Class     Consumer  United States        Seattle    Washington   \n",
       "2623     First Class  Home Office  United States  New York City      New York   \n",
       "4190  Standard Class     Consumer  United States         Newark      Delaware   \n",
       "9039  Standard Class     Consumer  United States        Detroit      Michigan   \n",
       "4098  Standard Class     Consumer  United States    Minneapolis     Minnesota   \n",
       "4277  Standard Class    Corporate  United States       Lakewood    New Jersey   \n",
       "8488    Second Class     Consumer  United States      Arlington      Virginia   \n",
       "6425  Standard Class     Consumer  United States   Philadelphia  Pennsylvania   \n",
       "\n",
       "      Postal Code   Region         Category Sub-Category      Sales  Quantity  \\\n",
       "2697        32216    South       Technology     Machines  22638.480         6   \n",
       "6826        47905  Central       Technology      Copiers  17499.950         5   \n",
       "8153        98115     West       Technology      Copiers  13999.960         4   \n",
       "2623        10024     East       Technology      Copiers  11199.968         4   \n",
       "4190        19711     East       Technology      Copiers  10499.970         3   \n",
       "9039        48205  Central  Office Supplies      Binders   9892.740        13   \n",
       "4098        55407  Central  Office Supplies      Binders   9449.950         5   \n",
       "4277         8701     East       Technology     Machines   9099.930         7   \n",
       "8488        22204    South       Technology     Machines   8749.950         5   \n",
       "6425        19120     East       Technology      Copiers   8399.976         4   \n",
       "\n",
       "      Discount     Profit  \n",
       "2697       0.5 -1811.0784  \n",
       "6826       0.0  8399.9760  \n",
       "8153       0.0  6719.9808  \n",
       "2623       0.2  3919.9888  \n",
       "4190       0.0  5039.9856  \n",
       "9039       0.0  4946.3700  \n",
       "4098       0.0  4630.4755  \n",
       "4277       0.0  2365.9818  \n",
       "8488       0.0  2799.9840  \n",
       "6425       0.4  1119.9968  "
      ]
     },
     "execution_count": 20,
     "metadata": {},
     "output_type": "execute_result"
    }
   ],
   "source": [
    "superstore.head(10)"
   ]
  },
  {
   "cell_type": "code",
   "execution_count": 21,
   "id": "3176dcd9",
   "metadata": {},
   "outputs": [
    {
     "data": {
      "text/plain": [
       "<BarContainer object of 4 artists>"
      ]
     },
     "execution_count": 21,
     "metadata": {},
     "output_type": "execute_result"
    },
    {
     "data": {
      "image/png": "[encoded data removed]",
      "text/plain": [
       "<Figure size 432x288 with 1 Axes>"
      ]
     },
     "metadata": {
      "needs_background": "light"
     },
     "output_type": "display_data"
    }
   ],
   "source": [
    "#sales according to the region \n",
    "\n",
    "east = superstore.groupby(['Region'])['Sales'].sum()['East']\n",
    "south = superstore.groupby(['Region'])['Sales'].sum()['South']\n",
    "central = superstore.groupby(['Region'])['Sales'].sum()['Central']\n",
    "west = superstore.groupby(['Region'])['Sales'].sum()['West']\n",
    "s_region=[east,south,central,west]\n",
    "region= ['east','south','central','west']\n",
    "plt.bar(region, s_region, width=0.4, color=\"Green\")"
   ]
  },
  {
   "cell_type": "code",
   "execution_count": 24,
   "id": "f29d246e",
   "metadata": {},
   "outputs": [
    {
     "data": {
      "image/png": "[encoded data removed]",
      "text/plain": [
       "<Figure size 1080x504 with 1 Axes>"
      ]
     },
     "metadata": {},
     "output_type": "display_data"
    }
   ],
   "source": [
    "#sales according to category\n",
    "plt.figure(figsize=(15,7))\n",
    "superstore['Category'].value_counts().plot.pie()\n",
    "plt.title(\"Sales according to category\")\n",
    "plt.show()"
   ]
  },
  {
   "cell_type": "code",
   "execution_count": 43,
   "id": "af5a7cf5",
   "metadata": {},
   "outputs": [
    {
     "data": {
      "image/png": "[encoded data removed]",
      "text/plain": [
       "<Figure size 1080x504 with 1 Axes>"
      ]
     },
     "metadata": {
      "needs_background": "light"
     },
     "output_type": "display_data"
    }
   ],
   "source": [
    "#sales according to discount\n",
    "plt.figure(figsize=(15,7))\n",
    "superstore['Discount'].value_counts().plot.bar()\n",
    "plt.title(\"Sales according to Discount\")\n",
    "plt.show()"
   ]
  },
  {
   "cell_type": "code",
   "execution_count": 56,
   "id": "f0be772c",
   "metadata": {},
   "outputs": [
    {
     "name": "stderr",
     "output_type": "stream",
     "text": [
      "C:\\Users\\suman jha\\AppData\\Local\\Temp\\ipykernel_5712\\2007364293.py:2: FutureWarning: Indexing with multiple keys (implicitly converted to a tuple of keys) will be deprecated, use a list instead.\n",
      "  superstore.groupby(['Discount'])['Sales', 'Profit'].sum().plot.bar(color=['blue','green'],figsize=(15,7))\n"
     ]
    },
    {
     "data": {
      "image/png": "[encoded data removed]",
      "text/plain": [
       "<Figure size 1080x504 with 1 Axes>"
      ]
     },
     "metadata": {
      "needs_background": "light"
     },
     "output_type": "display_data"
    }
   ],
   "source": [
    "#discount wise sales and profit multiset graph\n",
    "superstore.groupby(['Discount'])['Sales', 'Profit'].sum().plot.bar(color=['blue','green'],figsize=(15,7))\n",
    "plt.xticks(rotation=90)\n",
    "plt.title('Discount wise sales and profit')\n",
    "plt.xlabel('Discount')\n",
    "plt.ylabel('Count')\n",
    "plt.show()"
   ]
  },
  {
   "cell_type": "code",
   "execution_count": 42,
   "id": "12843cdd",
   "metadata": {},
   "outputs": [
    {
     "name": "stderr",
     "output_type": "stream",
     "text": [
      "C:\\Users\\suman jha\\AppData\\Local\\Temp\\ipykernel_5712\\2882038515.py:3: FutureWarning: Indexing with multiple keys (implicitly converted to a tuple of keys) will be deprecated, use a list instead.\n",
      "  superstore.groupby(['Segment'])['Sales', 'Profit'].sum().plot.bar(color=['violet','green'],figsize=(15,7))\n"
     ]
    },
    {
     "data": {
      "image/png": "[encoded data removed]",
      "text/plain": [
       "<Figure size 1080x504 with 1 Axes>"
      ]
     },
     "metadata": {
      "needs_background": "light"
     },
     "output_type": "display_data"
    }
   ],
   "source": [
    "#segment wise sales and profit \n",
    "\n",
    "superstore.groupby(['Segment'])['Sales', 'Profit'].sum().plot.bar(color=['violet','green'],figsize=(15,7))\n",
    "plt.xticks(rotation=90)\n",
    "plt.title('Segment wise sales')\n",
    "plt.xlabel('Segement')\n",
    "plt.ylabel('Count')\n",
    "plt.show()"
   ]
  },
  {
   "cell_type": "code",
   "execution_count": 40,
   "id": "bc14f79f",
   "metadata": {},
   "outputs": [
    {
     "data": {
      "image/png": "[encoded data removed]",
      "text/plain": [
       "<Figure size 1080x504 with 1 Axes>"
      ]
     },
     "metadata": {
      "needs_background": "light"
     },
     "output_type": "display_data"
    }
   ],
   "source": [
    "#sales according to the ship mode\n",
    "plt.figure(figsize=(15,7))\n",
    "superstore['Ship Mode'].value_counts().plot.bar()\n",
    "plt.title(\"Sales according to Ship Mode\")\n",
    "plt.show()"
   ]
  },
  {
   "cell_type": "markdown",
   "id": "7f9067d7",
   "metadata": {},
   "source": [
    "# Sales by category and sub-category"
   ]
  },
  {
   "cell_type": "code",
   "execution_count": 49,
   "id": "d9fb4738",
   "metadata": {},
   "outputs": [
    {
     "data": {
      "image/png": "[encoded data removed]",
      "text/plain": [
       "<Figure size 1080x720 with 1 Axes>"
      ]
     },
     "metadata": {
      "needs_background": "light"
     },
     "output_type": "display_data"
    }
   ],
   "source": [
    "plt.figure(figsize=(15,10))\n",
    "sales=superstore.groupby(['Category', 'Sub-Category'])['Sales'].aggregate(np.sum).reset_index().sort_values(by=['Sales'], ascending=False)\n",
    "sales\n",
    "sns.barplot(x=\"Category\", y=\"Sales\", hue=\"Sub-Category\", data=sales)\n",
    "plt.show()"
   ]
  },
  {
   "cell_type": "markdown",
   "id": "7d77f86f",
   "metadata": {},
   "source": [
    "we can see that among all the sub categories the phones and chairs have highest sales . "
   ]
  },
  {
   "cell_type": "markdown",
   "id": "64179f05",
   "metadata": {},
   "source": [
    "# Checking Category and Sub-Category wise sales and relevant profit"
   ]
  },
  {
   "cell_type": "code",
   "execution_count": 51,
   "id": "c46f7d9f",
   "metadata": {},
   "outputs": [
    {
     "name": "stderr",
     "output_type": "stream",
     "text": [
      "C:\\Users\\suman jha\\AppData\\Local\\Temp\\ipykernel_5712\\2712671508.py:1: FutureWarning: Indexing with multiple keys (implicitly converted to a tuple of keys) will be deprecated, use a list instead.\n",
      "  superstore.groupby(['Category'])['Sales', 'Profit'].sum().plot.bar(color=['brown','yellow'],figsize=(20,10))\n"
     ]
    },
    {
     "data": {
      "image/png": "[encoded data removed]",
      "text/plain": [
       "<Figure size 1440x720 with 1 Axes>"
      ]
     },
     "metadata": {
      "needs_background": "light"
     },
     "output_type": "display_data"
    }
   ],
   "source": [
    "superstore.groupby(['Category'])['Sales', 'Profit'].sum().plot.bar(color=['brown','yellow'],figsize=(20,10))\n",
    "plt.title('Category wise sales and profit')\n",
    "plt.xlabel('Sales')\n",
    "plt.ylabel('Count')\n",
    "plt.show()"
   ]
  },
  {
   "cell_type": "markdown",
   "id": "4ec41899",
   "metadata": {},
   "source": [
    "Analysis says Technology has highest sales and profit , where as office supplies has less sales and furniture has lowest profit"
   ]
  },
  {
   "cell_type": "code",
   "execution_count": 53,
   "id": "f607fd12",
   "metadata": {},
   "outputs": [
    {
     "name": "stderr",
     "output_type": "stream",
     "text": [
      "C:\\Users\\suman jha\\AppData\\Local\\Temp\\ipykernel_5712\\3353240757.py:1: FutureWarning: Indexing with multiple keys (implicitly converted to a tuple of keys) will be deprecated, use a list instead.\n",
      "  superstore.groupby(['Sub-Category'])['Sales', 'Profit'].sum().plot.bar(color=['red','black'],figsize=(20,10))\n"
     ]
    },
    {
     "data": {
      "image/png": "[encoded data removed]",
      "text/plain": [
       "<Figure size 1440x720 with 1 Axes>"
      ]
     },
     "metadata": {
      "needs_background": "light"
     },
     "output_type": "display_data"
    }
   ],
   "source": [
    "superstore.groupby(['Sub-Category'])['Sales', 'Profit'].sum().plot.bar(color=['red','black'],figsize=(20,10))\n",
    "plt.title('Sub Category wise sales and profit')\n",
    "plt.xlabel('Sales')\n",
    "plt.ylabel('Count')\n",
    "plt.show()"
   ]
  },
  {
   "cell_type": "markdown",
   "id": "b9402ba6",
   "metadata": {},
   "source": [
    "Here , according to analysis we can say that phone and chair has highest sales, where as copies and phones has the highest\n",
    "profit among all"
   ]
  },
  {
   "cell_type": "markdown",
   "id": "b75e0e3f",
   "metadata": {},
   "source": [
    "# Summary "
   ]
  },
  {
   "cell_type": "markdown",
   "id": "ddfc28fe",
   "metadata": {},
   "source": [
    "The highest sales is in the west region followed by east, central, south . Likewise the overall most sold items is office \n",
    "supplies followed by furniture and technology. We aslo came to know that wherever there is 0 discount we got the most sales. \n",
    "Similary, consumer goods are sold more and makes the most profit. In the same manner, standard class shipment items are sold \n",
    "the most and same day shipment goods are sold less. In the sub-category graph we can see that phones and copies are sold more \n",
    "and makes the most profit while labels and fasterners are sold the least. "
   ]
  },
  {
   "cell_type": "markdown",
   "id": "b6dd1c6d",
   "metadata": {},
   "source": [
    "# Suggestions"
   ]
  },
  {
   "cell_type": "markdown",
   "id": "f6a9b1dc",
   "metadata": {},
   "source": [
    "Inorder to increase the sales, we can remove the discount on the product as we can see that the places with least number of \n",
    "discount get more sales and profit. Likewise, if we make the shipment standard for the product the sales increases. We also \n",
    "have places where there are more sales but less profit. In order to increase the profit there we can reduce the discount on\n",
    "sales and even try to change the product to Consumer instead of Home office. "
   ]
  }
 ],
 "metadata": {
  "kernelspec": {
   "display_name": "Python 3 (ipykernel)",
   "language": "python",
   "name": "python3"
  },
  "language_info": {
   "codemirror_mode": {
    "name": "ipython",
    "version": 3
   },
   "file_extension": ".py",
   "mimetype": "text/x-python",
   "name": "python",
   "nbconvert_exporter": "python",
   "pygments_lexer": "ipython3",
   "version": "3.9.12"
  }
 },
 "nbformat": 4,
 "nbformat_minor": 5
}
